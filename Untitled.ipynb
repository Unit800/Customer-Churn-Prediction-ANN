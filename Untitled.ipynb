{
 "cells": [
  {
   "cell_type": "code",
   "execution_count": 1,
   "metadata": {},
   "outputs": [
    {
     "name": "stderr",
     "output_type": "stream",
     "text": [
      "Using TensorFlow backend.\n"
     ]
    }
   ],
   "source": [
    "import numpy as np\n",
    "import matplotlib.pyplot as plt\n",
    "import pandas as pd\n",
    "\n",
    "from sklearn.preprocessing import LabelEncoder, OneHotEncoder\n",
    "from sklearn.model_selection import train_test_split\n",
    "from sklearn.preprocessing import StandardScaler\n",
    "\n",
    "import keras\n",
    "from keras.models import Sequential\n",
    "from keras.layers import Dense"
   ]
  },
  {
   "cell_type": "code",
   "execution_count": 30,
   "metadata": {},
   "outputs": [
    {
     "data": {
      "text/plain": [
       "(10000, 10)"
      ]
     },
     "execution_count": 30,
     "metadata": {},
     "output_type": "execute_result"
    }
   ],
   "source": [
    "dataset = pd.read_csv('Churn_Modelling.csv')\n",
    "X = dataset.iloc[:, 3:13].values\n",
    "y = dataset.iloc[:, 13].values\n",
    "X.shape"
   ]
  },
  {
   "cell_type": "code",
   "execution_count": 6,
   "metadata": {},
   "outputs": [
    {
     "name": "stdout",
     "output_type": "stream",
     "text": [
      "[[619 'France' 'Female' ..., 1 1 101348.88]\n",
      " [608 'Spain' 'Female' ..., 0 1 112542.58]\n",
      " [502 'France' 'Female' ..., 1 0 113931.57]\n",
      " ..., \n",
      " [709 'France' 'Female' ..., 0 1 42085.58]\n",
      " [772 'Germany' 'Male' ..., 1 0 92888.52]\n",
      " [792 'France' 'Female' ..., 1 0 38190.78]]\n"
     ]
    }
   ],
   "source": [
    "print(X)"
   ]
  },
  {
   "cell_type": "code",
   "execution_count": 32,
   "metadata": {},
   "outputs": [],
   "source": [
    "labelencoder_X_1 = LabelEncoder()\n",
    "X[:, 1] = labelencoder_X_1.fit_transform(X[:, 1])\n",
    "labelencoder_X_2 = LabelEncoder()\n",
    "X[:, 2] = labelencoder_X_2.fit_transform(X[:, 2])\n"
   ]
  },
  {
   "cell_type": "code",
   "execution_count": 33,
   "metadata": {},
   "outputs": [
    {
     "name": "stdout",
     "output_type": "stream",
     "text": [
      "[[619 0 0 ..., 1 1 101348.88]\n",
      " [608 2 0 ..., 0 1 112542.58]\n",
      " [502 0 0 ..., 1 0 113931.57]\n",
      " ..., \n",
      " [709 0 0 ..., 0 1 42085.58]\n",
      " [772 1 1 ..., 1 0 92888.52]\n",
      " [792 0 0 ..., 1 0 38190.78]]\n"
     ]
    }
   ],
   "source": [
    "print(X)"
   ]
  },
  {
   "cell_type": "code",
   "execution_count": 39,
   "metadata": {},
   "outputs": [
    {
     "data": {
      "text/plain": [
       "(10000, 12)"
      ]
     },
     "execution_count": 39,
     "metadata": {},
     "output_type": "execute_result"
    }
   ],
   "source": [
    "onehotencoder = OneHotEncoder(categorical_features = [1])\n",
    "X = onehotencoder.fit_transform(X).toarray()\n",
    "\n",
    "X = X[:, 1:]\n",
    "X.shape"
   ]
  },
  {
   "cell_type": "code",
   "execution_count": 18,
   "metadata": {},
   "outputs": [
    {
     "name": "stdout",
     "output_type": "stream",
     "text": [
      "[[  0.00000000e+00   1.00000000e+00   1.00000000e+00 ...,   1.00000000e+00\n",
      "    1.00000000e+00   1.01348880e+05]\n",
      " [  1.00000000e+00   0.00000000e+00   0.00000000e+00 ...,   0.00000000e+00\n",
      "    1.00000000e+00   1.12542580e+05]\n",
      " [  0.00000000e+00   1.00000000e+00   1.00000000e+00 ...,   1.00000000e+00\n",
      "    0.00000000e+00   1.13931570e+05]\n",
      " ..., \n",
      " [  0.00000000e+00   1.00000000e+00   1.00000000e+00 ...,   0.00000000e+00\n",
      "    1.00000000e+00   4.20855800e+04]\n",
      " [  0.00000000e+00   1.00000000e+00   1.00000000e+00 ...,   1.00000000e+00\n",
      "    0.00000000e+00   9.28885200e+04]\n",
      " [  0.00000000e+00   1.00000000e+00   1.00000000e+00 ...,   1.00000000e+00\n",
      "    0.00000000e+00   3.81907800e+04]]\n"
     ]
    }
   ],
   "source": [
    "print(X)"
   ]
  },
  {
   "cell_type": "code",
   "execution_count": 19,
   "metadata": {},
   "outputs": [],
   "source": [
    "X_train, X_test, y_train, y_test = train_test_split(X, y, test_size = 0.2, random_state = 0)"
   ]
  },
  {
   "cell_type": "code",
   "execution_count": 20,
   "metadata": {},
   "outputs": [
    {
     "name": "stdout",
     "output_type": "stream",
     "text": [
      "[[  1.00000000e+00   0.00000000e+00   0.00000000e+00 ...,   1.00000000e+00\n",
      "    0.00000000e+00   1.63830640e+05]\n",
      " [  0.00000000e+00   1.00000000e+00   1.00000000e+00 ...,   1.00000000e+00\n",
      "    1.00000000e+00   5.70980000e+04]\n",
      " [  0.00000000e+00   1.00000000e+00   1.00000000e+00 ...,   1.00000000e+00\n",
      "    0.00000000e+00   1.85630760e+05]\n",
      " ..., \n",
      " [  0.00000000e+00   1.00000000e+00   1.00000000e+00 ...,   1.00000000e+00\n",
      "    0.00000000e+00   1.81429870e+05]\n",
      " [  1.00000000e+00   0.00000000e+00   0.00000000e+00 ...,   1.00000000e+00\n",
      "    1.00000000e+00   1.48750160e+05]\n",
      " [  0.00000000e+00   1.00000000e+00   1.00000000e+00 ...,   1.00000000e+00\n",
      "    0.00000000e+00   1.18855260e+05]]\n"
     ]
    }
   ],
   "source": [
    "print(X_train)\n"
   ]
  },
  {
   "cell_type": "code",
   "execution_count": 21,
   "metadata": {},
   "outputs": [
    {
     "name": "stdout",
     "output_type": "stream",
     "text": [
      "[[  0.00000000e+00   1.00000000e+00   1.00000000e+00 ...,   1.00000000e+00\n",
      "    1.00000000e+00   1.92852670e+05]\n",
      " [  0.00000000e+00   1.00000000e+00   1.00000000e+00 ...,   1.00000000e+00\n",
      "    0.00000000e+00   1.28702100e+05]\n",
      " [  1.00000000e+00   0.00000000e+00   0.00000000e+00 ...,   1.00000000e+00\n",
      "    1.00000000e+00   7.57322500e+04]\n",
      " ..., \n",
      " [  1.00000000e+00   0.00000000e+00   0.00000000e+00 ...,   1.00000000e+00\n",
      "    0.00000000e+00   1.41533190e+05]\n",
      " [  0.00000000e+00   1.00000000e+00   1.00000000e+00 ...,   1.00000000e+00\n",
      "    1.00000000e+00   1.12764800e+04]\n",
      " [  0.00000000e+00   1.00000000e+00   1.00000000e+00 ...,   1.00000000e+00\n",
      "    0.00000000e+00   1.92950600e+05]]\n"
     ]
    }
   ],
   "source": [
    "print(X_test)"
   ]
  },
  {
   "cell_type": "code",
   "execution_count": 22,
   "metadata": {},
   "outputs": [],
   "source": [
    "sc = StandardScaler()\n",
    "X_train = sc.fit_transform(X_train)\n",
    "X_test = sc.transform(X_test)\n"
   ]
  },
  {
   "cell_type": "code",
   "execution_count": 23,
   "metadata": {},
   "outputs": [
    {
     "name": "stdout",
     "output_type": "stream",
     "text": [
      "[[ 1.74309049 -1.74309049 -1.74309049 ...,  0.64259497 -1.03227043\n",
      "   1.10643166]\n",
      " [-0.57369368  0.57369368  0.57369368 ...,  0.64259497  0.9687384\n",
      "  -0.74866447]\n",
      " [-0.57369368  0.57369368  0.57369368 ...,  0.64259497 -1.03227043\n",
      "   1.48533467]\n",
      " ..., \n",
      " [-0.57369368  0.57369368  0.57369368 ...,  0.64259497 -1.03227043\n",
      "   1.41231994]\n",
      " [ 1.74309049 -1.74309049 -1.74309049 ...,  0.64259497  0.9687384\n",
      "   0.84432121]\n",
      " [-0.57369368  0.57369368  0.57369368 ...,  0.64259497 -1.03227043\n",
      "   0.32472465]]\n"
     ]
    }
   ],
   "source": [
    "print(X_train)"
   ]
  },
  {
   "cell_type": "code",
   "execution_count": 24,
   "metadata": {},
   "outputs": [],
   "source": [
    "classifier = Sequential()"
   ]
  },
  {
   "cell_type": "code",
   "execution_count": 26,
   "metadata": {},
   "outputs": [],
   "source": [
    "classifier.add(Dense(units = 6, kernel_initializer = 'uniform', activation = 'relu', input_dim = 11))\n",
    "\n",
    "# Adding the second hidden layer\n",
    "classifier.add(Dense(units = 6, kernel_initializer = 'uniform', activation = 'relu'))\n",
    "\n",
    "# Adding the output layer\n",
    "classifier.add(Dense(units = 1, kernel_initializer = 'uniform', activation = 'sigmoid'))\n",
    "\n",
    "# Compiling the ANN\n",
    "classifier.compile(optimizer = 'adam', loss = 'binary_crossentropy', metrics = ['accuracy'])\n",
    "\n"
   ]
  },
  {
   "cell_type": "code",
   "execution_count": null,
   "metadata": {},
   "outputs": [
    {
     "name": "stdout",
     "output_type": "stream",
     "text": [
      "Epoch 1/100\n",
      "8000/8000 [==============================] - 3s 381us/step - loss: 0.6131 - acc: 0.7952\n",
      "Epoch 2/100\n",
      "8000/8000 [==============================] - 2s 234us/step - loss: 0.5333 - acc: 0.7960\n",
      "Epoch 3/100\n",
      "8000/8000 [==============================] - 2s 220us/step - loss: 0.5117 - acc: 0.7960\n",
      "Epoch 4/100\n",
      "8000/8000 [==============================] - 2s 255us/step - loss: 0.5070 - acc: 0.7960\n",
      "Epoch 5/100\n",
      "8000/8000 [==============================] - 2s 280us/step - loss: 0.5061 - acc: 0.7960 0s - loss: 0.5048 - ac\n",
      "Epoch 6/100\n",
      "8000/8000 [==============================] - 2s 224us/step - loss: 0.5059 - acc: 0.7960\n",
      "Epoch 7/100\n",
      "8000/8000 [==============================] - 2s 243us/step - loss: 0.5059 - acc: 0.7960\n",
      "Epoch 8/100\n",
      "8000/8000 [==============================] - 2s 229us/step - loss: 0.5060 - acc: 0.7960\n",
      "Epoch 9/100\n",
      "8000/8000 [==============================] - 2s 230us/step - loss: 0.5060 - acc: 0.7960\n",
      "Epoch 10/100\n",
      "8000/8000 [==============================] - 2s 255us/step - loss: 0.5060 - acc: 0.7960\n",
      "Epoch 11/100\n",
      "8000/8000 [==============================] - 2s 240us/step - loss: 0.5060 - acc: 0.7960\n",
      "Epoch 12/100\n",
      "8000/8000 [==============================] - 2s 255us/step - loss: 0.5060 - acc: 0.7960\n",
      "Epoch 13/100\n",
      "8000/8000 [==============================] - 2s 230us/step - loss: 0.5059 - acc: 0.7960\n",
      "Epoch 14/100\n",
      "8000/8000 [==============================] - 2s 243us/step - loss: 0.5059 - acc: 0.7960\n",
      "Epoch 15/100\n",
      "8000/8000 [==============================] - 2s 232us/step - loss: 0.5059 - acc: 0.7960\n",
      "Epoch 16/100\n",
      "8000/8000 [==============================] - 2s 242us/step - loss: 0.5060 - acc: 0.7960\n",
      "Epoch 17/100\n",
      "8000/8000 [==============================] - 2s 241us/step - loss: 0.5060 - acc: 0.7960\n",
      "Epoch 18/100\n",
      "8000/8000 [==============================] - 2s 230us/step - loss: 0.5060 - acc: 0.7960\n",
      "Epoch 19/100\n",
      "8000/8000 [==============================] - 2s 257us/step - loss: 0.5060 - acc: 0.7960\n",
      "Epoch 20/100\n",
      "8000/8000 [==============================] - 2s 244us/step - loss: 0.5060 - acc: 0.7960\n",
      "Epoch 21/100\n",
      "8000/8000 [==============================] - 2s 229us/step - loss: 0.5059 - acc: 0.7960\n",
      "Epoch 22/100\n",
      "8000/8000 [==============================] - 2s 247us/step - loss: 0.5060 - acc: 0.7960\n",
      "Epoch 23/100\n",
      "8000/8000 [==============================] - 2s 230us/step - loss: 0.5060 - acc: 0.7960\n",
      "Epoch 24/100\n",
      "8000/8000 [==============================] - 2s 235us/step - loss: 0.5059 - acc: 0.7960\n",
      "Epoch 25/100\n",
      "8000/8000 [==============================] - 2s 216us/step - loss: 0.5059 - acc: 0.7960 0s - loss: 0.\n",
      "Epoch 26/100\n",
      "8000/8000 [==============================] - 2s 249us/step - loss: 0.5060 - acc: 0.7960\n",
      "Epoch 27/100\n",
      "8000/8000 [==============================] - 2s 246us/step - loss: 0.5060 - acc: 0.7960\n",
      "Epoch 28/100\n",
      "8000/8000 [==============================] - 2s 252us/step - loss: 0.5060 - acc: 0.7960\n",
      "Epoch 29/100\n",
      "8000/8000 [==============================] - 2s 237us/step - loss: 0.5060 - acc: 0.7960\n",
      "Epoch 30/100\n",
      "8000/8000 [==============================] - 2s 217us/step - loss: 0.5060 - acc: 0.7960\n",
      "Epoch 31/100\n",
      "8000/8000 [==============================] - 2s 228us/step - loss: 0.5060 - acc: 0.7960\n",
      "Epoch 32/100\n",
      "8000/8000 [==============================] - 2s 268us/step - loss: 0.5060 - acc: 0.7960\n",
      "Epoch 33/100\n",
      "8000/8000 [==============================] - 2s 239us/step - loss: 0.5059 - acc: 0.7960\n",
      "Epoch 34/100\n",
      "8000/8000 [==============================] - 2s 265us/step - loss: 0.5059 - acc: 0.7960\n",
      "Epoch 35/100\n",
      "8000/8000 [==============================] - 2s 283us/step - loss: 0.5060 - acc: 0.7960\n",
      "Epoch 36/100\n",
      "8000/8000 [==============================] - 2s 237us/step - loss: 0.5059 - acc: 0.7960\n",
      "Epoch 37/100\n",
      "8000/8000 [==============================] - 2s 219us/step - loss: 0.5059 - acc: 0.7960\n",
      "Epoch 38/100\n",
      "8000/8000 [==============================] - 2s 263us/step - loss: 0.5059 - acc: 0.7960\n",
      "Epoch 39/100\n",
      "8000/8000 [==============================] - 2s 281us/step - loss: 0.5060 - acc: 0.7960\n",
      "Epoch 40/100\n",
      "8000/8000 [==============================] - 2s 233us/step - loss: 0.5059 - acc: 0.7960\n",
      "Epoch 41/100\n",
      "8000/8000 [==============================] - 2s 242us/step - loss: 0.5060 - acc: 0.7960\n",
      "Epoch 42/100\n",
      "8000/8000 [==============================] - 2s 228us/step - loss: 0.5060 - acc: 0.7960\n",
      "Epoch 43/100\n",
      "8000/8000 [==============================] - 2s 226us/step - loss: 0.5059 - acc: 0.7960\n",
      "Epoch 44/100\n",
      "8000/8000 [==============================] - 2s 305us/step - loss: 0.5060 - acc: 0.7960\n",
      "Epoch 45/100\n",
      "8000/8000 [==============================] - 2s 252us/step - loss: 0.5059 - acc: 0.7960 0s - loss: 0.5075 -\n",
      "Epoch 46/100\n",
      "8000/8000 [==============================] - 2s 237us/step - loss: 0.5059 - acc: 0.7960\n",
      "Epoch 47/100\n",
      "8000/8000 [==============================] - 2s 257us/step - loss: 0.5060 - acc: 0.7960\n",
      "Epoch 48/100\n",
      "8000/8000 [==============================] - 2s 241us/step - loss: 0.5059 - acc: 0.7960 0s - loss: 0.5069 - acc: 0.795\n",
      "Epoch 49/100\n",
      "8000/8000 [==============================] - 2s 246us/step - loss: 0.5060 - acc: 0.7960\n",
      "Epoch 50/100\n",
      "8000/8000 [==============================] - 2s 228us/step - loss: 0.5059 - acc: 0.7960\n",
      "Epoch 51/100\n",
      "8000/8000 [==============================] - 2s 207us/step - loss: 0.5059 - acc: 0.7960\n",
      "Epoch 52/100\n",
      "8000/8000 [==============================] - 2s 201us/step - loss: 0.5059 - acc: 0.7960\n",
      "Epoch 53/100\n",
      "8000/8000 [==============================] - 2s 201us/step - loss: 0.5059 - acc: 0.7960\n",
      "Epoch 54/100\n",
      "8000/8000 [==============================] - 2s 215us/step - loss: 0.5060 - acc: 0.7960\n",
      "Epoch 55/100\n",
      "8000/8000 [==============================] - 2s 224us/step - loss: 0.5059 - acc: 0.7960\n",
      "Epoch 56/100\n",
      "8000/8000 [==============================] - 2s 245us/step - loss: 0.5060 - acc: 0.7960\n",
      "Epoch 57/100\n",
      "8000/8000 [==============================] - 2s 216us/step - loss: 0.5060 - acc: 0.7960\n",
      "Epoch 58/100\n",
      "8000/8000 [==============================] - 2s 220us/step - loss: 0.5059 - acc: 0.7960\n",
      "Epoch 59/100\n",
      "8000/8000 [==============================] - 3s 322us/step - loss: 0.5059 - acc: 0.7960\n",
      "Epoch 60/100\n",
      "8000/8000 [==============================] - 2s 259us/step - loss: 0.5059 - acc: 0.7960\n",
      "Epoch 61/100\n",
      "8000/8000 [==============================] - 2s 278us/step - loss: 0.5060 - acc: 0.7960\n",
      "Epoch 62/100\n",
      "8000/8000 [==============================] - 2s 278us/step - loss: 0.5060 - acc: 0.7960\n",
      "Epoch 63/100\n",
      "8000/8000 [==============================] - 2s 286us/step - loss: 0.5060 - acc: 0.7960 1s - lo\n",
      "Epoch 64/100\n",
      "8000/8000 [==============================] - 2s 256us/step - loss: 0.5059 - acc: 0.7960\n",
      "Epoch 65/100\n",
      "8000/8000 [==============================] - 3s 396us/step - loss: 0.5059 - acc: 0.7960\n",
      "Epoch 66/100\n",
      "8000/8000 [==============================] - 2s 258us/step - loss: 0.5060 - acc: 0.7960 0s - loss: 0.5051 -\n",
      "Epoch 67/100\n",
      "8000/8000 [==============================] - 2s 247us/step - loss: 0.5059 - acc: 0.7960\n",
      "Epoch 68/100\n",
      "8000/8000 [==============================] - 2s 281us/step - loss: 0.5059 - acc: 0.7960\n",
      "Epoch 69/100\n",
      "8000/8000 [==============================] - 2s 219us/step - loss: 0.5059 - acc: 0.7960\n",
      "Epoch 70/100\n",
      "8000/8000 [==============================] - 2s 250us/step - loss: 0.5060 - acc: 0.7960\n",
      "Epoch 71/100\n",
      "8000/8000 [==============================] - 2s 224us/step - loss: 0.5059 - acc: 0.7960\n",
      "Epoch 72/100\n",
      "8000/8000 [==============================] - 2s 211us/step - loss: 0.5060 - acc: 0.7960\n",
      "Epoch 73/100\n",
      "8000/8000 [==============================] - 2s 244us/step - loss: 0.5060 - acc: 0.7960\n",
      "Epoch 74/100\n",
      "8000/8000 [==============================] - 2s 253us/step - loss: 0.5060 - acc: 0.7960\n",
      "Epoch 75/100\n",
      "8000/8000 [==============================] - 2s 241us/step - loss: 0.5059 - acc: 0.7960\n",
      "Epoch 76/100\n",
      "8000/8000 [==============================] - 2s 270us/step - loss: 0.5060 - acc: 0.7960\n",
      "Epoch 77/100\n",
      "8000/8000 [==============================] - 2s 230us/step - loss: 0.5059 - acc: 0.7960\n",
      "Epoch 78/100\n",
      "8000/8000 [==============================] - 2s 249us/step - loss: 0.5060 - acc: 0.7960\n",
      "Epoch 79/100\n",
      "8000/8000 [==============================] - 2s 224us/step - loss: 0.5060 - acc: 0.7960 1s - loss:\n",
      "Epoch 80/100\n",
      "5130/8000 [==================>...........] - ETA: 0s - loss: 0.5061 - acc: 0.7959"
     ]
    }
   ],
   "source": [
    "classifier.fit(X_train[:, 2:], y_train, batch_size = 10, epochs = 100)"
   ]
  },
  {
   "cell_type": "code",
   "execution_count": null,
   "metadata": {},
   "outputs": [],
   "source": []
  }
 ],
 "metadata": {
  "kernelspec": {
   "display_name": "Python 3",
   "language": "python",
   "name": "python3"
  },
  "language_info": {
   "codemirror_mode": {
    "name": "ipython",
    "version": 3
   },
   "file_extension": ".py",
   "mimetype": "text/x-python",
   "name": "python",
   "nbconvert_exporter": "python",
   "pygments_lexer": "ipython3",
   "version": "3.6.1"
  }
 },
 "nbformat": 4,
 "nbformat_minor": 2
}
