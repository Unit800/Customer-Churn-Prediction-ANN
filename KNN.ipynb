{
 "cells": [
  {
   "cell_type": "code",
   "execution_count": 59,
   "metadata": {},
   "outputs": [],
   "source": [
    "import numpy as np\n",
    "import matplotlib.pyplot as plt\n",
    "import pandas as pd\n",
    "\n",
    "from sklearn.preprocessing import LabelEncoder, OneHotEncoder\n",
    "from sklearn.model_selection import train_test_split\n",
    "from sklearn.preprocessing import StandardScaler\n",
    "\n",
    "import keras\n",
    "from keras.models import Sequential\n",
    "from keras.layers import Dense"
   ]
  },
  {
   "cell_type": "code",
   "execution_count": 60,
   "metadata": {},
   "outputs": [
    {
     "data": {
      "text/plain": [
       "(10000, 10)"
      ]
     },
     "execution_count": 60,
     "metadata": {},
     "output_type": "execute_result"
    }
   ],
   "source": [
    "dataset = pd.read_csv('Churn_Modelling.csv')\n",
    "X = dataset.iloc[:, 3:13].values\n",
    "y = dataset.iloc[:, 13].values\n",
    "X.shape"
   ]
  },
  {
   "cell_type": "code",
   "execution_count": 61,
   "metadata": {},
   "outputs": [
    {
     "name": "stdout",
     "output_type": "stream",
     "text": [
      "[[619 'France' 'Female' ..., 1 1 101348.88]\n",
      " [608 'Spain' 'Female' ..., 0 1 112542.58]\n",
      " [502 'France' 'Female' ..., 1 0 113931.57]\n",
      " ..., \n",
      " [709 'France' 'Female' ..., 0 1 42085.58]\n",
      " [772 'Germany' 'Male' ..., 1 0 92888.52]\n",
      " [792 'France' 'Female' ..., 1 0 38190.78]]\n"
     ]
    }
   ],
   "source": [
    "print(X)"
   ]
  },
  {
   "cell_type": "code",
   "execution_count": 62,
   "metadata": {},
   "outputs": [],
   "source": [
    "labelencoder_X_1 = LabelEncoder()\n",
    "X[:, 1] = labelencoder_X_1.fit_transform(X[:, 1])\n",
    "labelencoder_X_2 = LabelEncoder()\n",
    "X[:, 2] = labelencoder_X_2.fit_transform(X[:, 2])\n"
   ]
  },
  {
   "cell_type": "code",
   "execution_count": 63,
   "metadata": {},
   "outputs": [
    {
     "name": "stdout",
     "output_type": "stream",
     "text": [
      "[[619 0 0 ..., 1 1 101348.88]\n",
      " [608 2 0 ..., 0 1 112542.58]\n",
      " [502 0 0 ..., 1 0 113931.57]\n",
      " ..., \n",
      " [709 0 0 ..., 0 1 42085.58]\n",
      " [772 1 1 ..., 1 0 92888.52]\n",
      " [792 0 0 ..., 1 0 38190.78]]\n"
     ]
    }
   ],
   "source": [
    "print(X)"
   ]
  },
  {
   "cell_type": "code",
   "execution_count": 64,
   "metadata": {},
   "outputs": [
    {
     "data": {
      "text/plain": [
       "(10000, 11)"
      ]
     },
     "execution_count": 64,
     "metadata": {},
     "output_type": "execute_result"
    }
   ],
   "source": [
    "onehotencoder = OneHotEncoder(categorical_features = [1])\n",
    "X = onehotencoder.fit_transform(X).toarray()\n",
    "\n",
    "X = X[:, 1:]\n",
    "X.shape"
   ]
  },
  {
   "cell_type": "code",
   "execution_count": 65,
   "metadata": {},
   "outputs": [
    {
     "name": "stdout",
     "output_type": "stream",
     "text": [
      "[[  0.00000000e+00   0.00000000e+00   6.19000000e+02 ...,   1.00000000e+00\n",
      "    1.00000000e+00   1.01348880e+05]\n",
      " [  0.00000000e+00   1.00000000e+00   6.08000000e+02 ...,   0.00000000e+00\n",
      "    1.00000000e+00   1.12542580e+05]\n",
      " [  0.00000000e+00   0.00000000e+00   5.02000000e+02 ...,   1.00000000e+00\n",
      "    0.00000000e+00   1.13931570e+05]\n",
      " ..., \n",
      " [  0.00000000e+00   0.00000000e+00   7.09000000e+02 ...,   0.00000000e+00\n",
      "    1.00000000e+00   4.20855800e+04]\n",
      " [  1.00000000e+00   0.00000000e+00   7.72000000e+02 ...,   1.00000000e+00\n",
      "    0.00000000e+00   9.28885200e+04]\n",
      " [  0.00000000e+00   0.00000000e+00   7.92000000e+02 ...,   1.00000000e+00\n",
      "    0.00000000e+00   3.81907800e+04]]\n"
     ]
    }
   ],
   "source": [
    "print(X)"
   ]
  },
  {
   "cell_type": "code",
   "execution_count": 66,
   "metadata": {},
   "outputs": [
    {
     "name": "stdout",
     "output_type": "stream",
     "text": [
      "(10000, 11)\n",
      "(8000, 11)\n",
      "(2000, 11)\n"
     ]
    }
   ],
   "source": [
    "print(X.shape)\n",
    "X_train, X_test, y_train, y_test = train_test_split(X, y, test_size = 0.2, random_state = 0)\n",
    "print(X_train.shape)\n",
    "print(X_test.shape)"
   ]
  },
  {
   "cell_type": "code",
   "execution_count": 67,
   "metadata": {},
   "outputs": [
    {
     "name": "stdout",
     "output_type": "stream",
     "text": [
      "[[  0.00000000e+00   1.00000000e+00   6.67000000e+02 ...,   1.00000000e+00\n",
      "    0.00000000e+00   1.63830640e+05]\n",
      " [  1.00000000e+00   0.00000000e+00   4.27000000e+02 ...,   1.00000000e+00\n",
      "    1.00000000e+00   5.70980000e+04]\n",
      " [  0.00000000e+00   0.00000000e+00   5.35000000e+02 ...,   1.00000000e+00\n",
      "    0.00000000e+00   1.85630760e+05]\n",
      " ..., \n",
      " [  0.00000000e+00   0.00000000e+00   7.38000000e+02 ...,   1.00000000e+00\n",
      "    0.00000000e+00   1.81429870e+05]\n",
      " [  0.00000000e+00   1.00000000e+00   5.90000000e+02 ...,   1.00000000e+00\n",
      "    1.00000000e+00   1.48750160e+05]\n",
      " [  1.00000000e+00   0.00000000e+00   6.23000000e+02 ...,   1.00000000e+00\n",
      "    0.00000000e+00   1.18855260e+05]]\n",
      "(8000, 11)\n"
     ]
    }
   ],
   "source": [
    "print(X_train)\n",
    "print(X_train.shape)"
   ]
  },
  {
   "cell_type": "code",
   "execution_count": 68,
   "metadata": {},
   "outputs": [
    {
     "name": "stdout",
     "output_type": "stream",
     "text": [
      "[[  1.00000000e+00   0.00000000e+00   5.97000000e+02 ...,   1.00000000e+00\n",
      "    1.00000000e+00   1.92852670e+05]\n",
      " [  0.00000000e+00   0.00000000e+00   5.23000000e+02 ...,   1.00000000e+00\n",
      "    0.00000000e+00   1.28702100e+05]\n",
      " [  0.00000000e+00   1.00000000e+00   7.06000000e+02 ...,   1.00000000e+00\n",
      "    1.00000000e+00   7.57322500e+04]\n",
      " ..., \n",
      " [  0.00000000e+00   1.00000000e+00   5.78000000e+02 ...,   1.00000000e+00\n",
      "    0.00000000e+00   1.41533190e+05]\n",
      " [  1.00000000e+00   0.00000000e+00   6.50000000e+02 ...,   1.00000000e+00\n",
      "    1.00000000e+00   1.12764800e+04]\n",
      " [  1.00000000e+00   0.00000000e+00   5.73000000e+02 ...,   1.00000000e+00\n",
      "    0.00000000e+00   1.92950600e+05]]\n",
      "(8000, 11)\n"
     ]
    }
   ],
   "source": [
    "print(X_test)\n",
    "print(X_train.shape)"
   ]
  },
  {
   "cell_type": "code",
   "execution_count": 69,
   "metadata": {},
   "outputs": [],
   "source": [
    "sc = StandardScaler()\n",
    "X_train = sc.fit_transform(X_train)\n",
    "X_test = sc.transform(X_test)\n"
   ]
  },
  {
   "cell_type": "code",
   "execution_count": 70,
   "metadata": {},
   "outputs": [
    {
     "name": "stdout",
     "output_type": "stream",
     "text": [
      "[[-0.5698444   1.74309049  0.16958176 ...,  0.64259497 -1.03227043\n",
      "   1.10643166]\n",
      " [ 1.75486502 -0.57369368 -2.30455945 ...,  0.64259497  0.9687384\n",
      "  -0.74866447]\n",
      " [-0.5698444  -0.57369368 -1.19119591 ...,  0.64259497 -1.03227043\n",
      "   1.48533467]\n",
      " ..., \n",
      " [-0.5698444  -0.57369368  0.9015152  ...,  0.64259497 -1.03227043\n",
      "   1.41231994]\n",
      " [-0.5698444   1.74309049 -0.62420521 ...,  0.64259497  0.9687384\n",
      "   0.84432121]\n",
      " [ 1.75486502 -0.57369368 -0.28401079 ...,  0.64259497 -1.03227043\n",
      "   0.32472465]]\n"
     ]
    }
   ],
   "source": [
    "print(X_train)"
   ]
  },
  {
   "cell_type": "code",
   "execution_count": 71,
   "metadata": {},
   "outputs": [],
   "source": [
    "classifier = Sequential()"
   ]
  },
  {
   "cell_type": "code",
   "execution_count": 72,
   "metadata": {},
   "outputs": [],
   "source": [
    "classifier.add(Dense(units = 6, kernel_initializer = 'uniform', activation = 'relu', input_dim = 11))\n",
    "\n",
    "# Adding the second hidden layer\n",
    "classifier.add(Dense(units = 6, kernel_initializer = 'uniform', activation = 'relu'))\n",
    "\n",
    "# Adding the output layer\n",
    "classifier.add(Dense(units = 1, kernel_initializer = 'uniform', activation = 'sigmoid'))\n",
    "\n",
    "# Compiling the ANN\n",
    "classifier.compile(optimizer = 'adam', loss = 'binary_crossentropy', metrics = ['accuracy'])\n",
    "\n"
   ]
  },
  {
   "cell_type": "code",
   "execution_count": 74,
   "metadata": {},
   "outputs": [
    {
     "name": "stdout",
     "output_type": "stream",
     "text": [
      "Epoch 1/100\n",
      "8000/8000 [==============================] - 2s 251us/step - loss: 0.4918 - acc: 0.7950\n",
      "Epoch 2/100\n",
      "8000/8000 [==============================] - 2s 211us/step - loss: 0.4295 - acc: 0.7960\n",
      "Epoch 3/100\n",
      "8000/8000 [==============================] - 2s 195us/step - loss: 0.4244 - acc: 0.7960\n",
      "Epoch 4/100\n",
      "8000/8000 [==============================] - 1s 184us/step - loss: 0.4199 - acc: 0.8024\n",
      "Epoch 5/100\n",
      "8000/8000 [==============================] - 2s 218us/step - loss: 0.4170 - acc: 0.8252\n",
      "Epoch 6/100\n",
      "8000/8000 [==============================] - 2s 196us/step - loss: 0.4151 - acc: 0.8299\n",
      "Epoch 7/100\n",
      "8000/8000 [==============================] - 1s 184us/step - loss: 0.4135 - acc: 0.8311\n",
      "Epoch 8/100\n",
      "8000/8000 [==============================] - 2s 194us/step - loss: 0.4123 - acc: 0.8310\n",
      "Epoch 9/100\n",
      "8000/8000 [==============================] - 2s 213us/step - loss: 0.4112 - acc: 0.8327\n",
      "Epoch 10/100\n",
      "8000/8000 [==============================] - 2s 207us/step - loss: 0.4101 - acc: 0.8354 0s - loss: 0.4119 - acc: 0.\n",
      "Epoch 11/100\n",
      "8000/8000 [==============================] - 2s 198us/step - loss: 0.4094 - acc: 0.8347\n",
      "Epoch 12/100\n",
      "8000/8000 [==============================] - 1s 183us/step - loss: 0.4090 - acc: 0.8346\n",
      "Epoch 13/100\n",
      "8000/8000 [==============================] - 1s 182us/step - loss: 0.4083 - acc: 0.8346\n",
      "Epoch 14/100\n",
      "8000/8000 [==============================] - 2s 230us/step - loss: 0.4077 - acc: 0.8341\n",
      "Epoch 15/100\n",
      "8000/8000 [==============================] - 2s 245us/step - loss: 0.4071 - acc: 0.8354\n",
      "Epoch 16/100\n",
      "8000/8000 [==============================] - 2s 212us/step - loss: 0.4064 - acc: 0.8337\n",
      "Epoch 17/100\n",
      "8000/8000 [==============================] - 2s 200us/step - loss: 0.4064 - acc: 0.8352\n",
      "Epoch 18/100\n",
      "8000/8000 [==============================] - 1s 187us/step - loss: 0.4056 - acc: 0.8332\n",
      "Epoch 19/100\n",
      "8000/8000 [==============================] - 2s 199us/step - loss: 0.4055 - acc: 0.8349\n",
      "Epoch 20/100\n",
      "8000/8000 [==============================] - 2s 220us/step - loss: 0.4051 - acc: 0.8361\n",
      "Epoch 21/100\n",
      "8000/8000 [==============================] - 2s 188us/step - loss: 0.4048 - acc: 0.8345\n",
      "Epoch 22/100\n",
      "8000/8000 [==============================] - 2s 195us/step - loss: 0.4043 - acc: 0.8347\n",
      "Epoch 23/100\n",
      "8000/8000 [==============================] - 2s 193us/step - loss: 0.4040 - acc: 0.8351\n",
      "Epoch 24/100\n",
      "8000/8000 [==============================] - 2s 206us/step - loss: 0.4039 - acc: 0.8350\n",
      "Epoch 25/100\n",
      "8000/8000 [==============================] - 1s 184us/step - loss: 0.4038 - acc: 0.8359\n",
      "Epoch 26/100\n",
      "8000/8000 [==============================] - 1s 184us/step - loss: 0.4035 - acc: 0.8356\n",
      "Epoch 27/100\n",
      "8000/8000 [==============================] - 2s 229us/step - loss: 0.4035 - acc: 0.8354\n",
      "Epoch 28/100\n",
      "8000/8000 [==============================] - 2s 204us/step - loss: 0.4032 - acc: 0.8347 0s - loss: 0.\n",
      "Epoch 29/100\n",
      "8000/8000 [==============================] - 2s 195us/step - loss: 0.4030 - acc: 0.8342\n",
      "Epoch 30/100\n",
      "8000/8000 [==============================] - 1s 185us/step - loss: 0.4025 - acc: 0.8347\n",
      "Epoch 31/100\n",
      "8000/8000 [==============================] - 2s 198us/step - loss: 0.4026 - acc: 0.8349\n",
      "Epoch 32/100\n",
      "8000/8000 [==============================] - 2s 239us/step - loss: 0.4025 - acc: 0.8344\n",
      "Epoch 33/100\n",
      "8000/8000 [==============================] - 2s 191us/step - loss: 0.4020 - acc: 0.8354\n",
      "Epoch 34/100\n",
      "8000/8000 [==============================] - 2s 193us/step - loss: 0.4017 - acc: 0.8360\n",
      "Epoch 35/100\n",
      "8000/8000 [==============================] - 2s 232us/step - loss: 0.4020 - acc: 0.8345\n",
      "Epoch 36/100\n",
      "8000/8000 [==============================] - 2s 205us/step - loss: 0.4019 - acc: 0.8335\n",
      "Epoch 37/100\n",
      "8000/8000 [==============================] - 2s 194us/step - loss: 0.4015 - acc: 0.8354\n",
      "Epoch 38/100\n",
      "8000/8000 [==============================] - 2s 194us/step - loss: 0.4016 - acc: 0.8356 1s - loss: \n",
      "Epoch 39/100\n",
      "8000/8000 [==============================] - 2s 225us/step - loss: 0.4018 - acc: 0.8355\n",
      "Epoch 40/100\n",
      "8000/8000 [==============================] - 2s 192us/step - loss: 0.4018 - acc: 0.8346\n",
      "Epoch 41/100\n",
      "8000/8000 [==============================] - 2s 204us/step - loss: 0.4014 - acc: 0.8359\n",
      "Epoch 42/100\n",
      "8000/8000 [==============================] - 2s 203us/step - loss: 0.4010 - acc: 0.8354\n",
      "Epoch 43/100\n",
      "8000/8000 [==============================] - 2s 214us/step - loss: 0.4011 - acc: 0.8365\n",
      "Epoch 44/100\n",
      "8000/8000 [==============================] - 2s 192us/step - loss: 0.4011 - acc: 0.8352\n",
      "Epoch 45/100\n",
      "8000/8000 [==============================] - 1s 184us/step - loss: 0.4012 - acc: 0.8354\n",
      "Epoch 46/100\n",
      "8000/8000 [==============================] - 2s 194us/step - loss: 0.4008 - acc: 0.8344\n",
      "Epoch 47/100\n",
      "8000/8000 [==============================] - 2s 206us/step - loss: 0.4010 - acc: 0.8349\n",
      "Epoch 48/100\n",
      "8000/8000 [==============================] - 2s 210us/step - loss: 0.4012 - acc: 0.8352\n",
      "Epoch 49/100\n",
      "8000/8000 [==============================] - 2s 191us/step - loss: 0.4011 - acc: 0.8355\n",
      "Epoch 50/100\n",
      "8000/8000 [==============================] - 2s 190us/step - loss: 0.4008 - acc: 0.8340 0s - loss: 0\n",
      "Epoch 51/100\n",
      "8000/8000 [==============================] - 2s 216us/step - loss: 0.4012 - acc: 0.8346\n",
      "Epoch 52/100\n",
      "8000/8000 [==============================] - 2s 195us/step - loss: 0.4006 - acc: 0.8345\n",
      "Epoch 53/100\n",
      "8000/8000 [==============================] - 2s 198us/step - loss: 0.4008 - acc: 0.8351\n",
      "Epoch 54/100\n",
      "8000/8000 [==============================] - 2s 189us/step - loss: 0.4006 - acc: 0.8356\n",
      "Epoch 55/100\n",
      "8000/8000 [==============================] - 2s 223us/step - loss: 0.4006 - acc: 0.8342\n",
      "Epoch 56/100\n",
      "8000/8000 [==============================] - 2s 204us/step - loss: 0.4001 - acc: 0.8352\n",
      "Epoch 57/100\n",
      "8000/8000 [==============================] - 2s 200us/step - loss: 0.4007 - acc: 0.8355\n",
      "Epoch 58/100\n",
      "8000/8000 [==============================] - 2s 210us/step - loss: 0.4004 - acc: 0.8346\n",
      "Epoch 59/100\n",
      "8000/8000 [==============================] - 2s 192us/step - loss: 0.4006 - acc: 0.8347\n",
      "Epoch 60/100\n",
      "8000/8000 [==============================] - 2s 195us/step - loss: 0.4004 - acc: 0.8334\n",
      "Epoch 61/100\n",
      "8000/8000 [==============================] - 2s 215us/step - loss: 0.4006 - acc: 0.8347\n",
      "Epoch 62/100\n",
      "8000/8000 [==============================] - 2s 234us/step - loss: 0.4002 - acc: 0.8352\n",
      "Epoch 63/100\n",
      "8000/8000 [==============================] - 2s 211us/step - loss: 0.4006 - acc: 0.8352\n",
      "Epoch 64/100\n",
      "8000/8000 [==============================] - 2s 204us/step - loss: 0.4001 - acc: 0.8347\n",
      "Epoch 65/100\n",
      "8000/8000 [==============================] - 2s 204us/step - loss: 0.4001 - acc: 0.8344\n",
      "Epoch 66/100\n",
      "8000/8000 [==============================] - 1s 187us/step - loss: 0.4004 - acc: 0.8331\n",
      "Epoch 67/100\n",
      "8000/8000 [==============================] - 2s 188us/step - loss: 0.4002 - acc: 0.8369\n",
      "Epoch 68/100\n",
      "8000/8000 [==============================] - 2s 214us/step - loss: 0.4002 - acc: 0.8347\n",
      "Epoch 69/100\n",
      "8000/8000 [==============================] - 2s 231us/step - loss: 0.4006 - acc: 0.8351 0s - los\n",
      "Epoch 70/100\n",
      "8000/8000 [==============================] - 2s 215us/step - loss: 0.4000 - acc: 0.8346\n",
      "Epoch 71/100\n",
      "8000/8000 [==============================] - 2s 211us/step - loss: 0.4001 - acc: 0.8342\n",
      "Epoch 72/100\n",
      "8000/8000 [==============================] - 2s 214us/step - loss: 0.4001 - acc: 0.8355\n",
      "Epoch 73/100\n",
      "8000/8000 [==============================] - 2s 195us/step - loss: 0.4000 - acc: 0.8350\n",
      "Epoch 74/100\n",
      "8000/8000 [==============================] - 2s 250us/step - loss: 0.4000 - acc: 0.8335\n",
      "Epoch 75/100\n",
      "8000/8000 [==============================] - 2s 207us/step - loss: 0.4002 - acc: 0.8346\n",
      "Epoch 76/100\n",
      "8000/8000 [==============================] - 2s 197us/step - loss: 0.4004 - acc: 0.8354 0s - loss: 0.4065 - ac\n",
      "Epoch 77/100\n",
      "8000/8000 [==============================] - 2s 188us/step - loss: 0.4003 - acc: 0.8357\n",
      "Epoch 78/100\n",
      "8000/8000 [==============================] - 2s 202us/step - loss: 0.4001 - acc: 0.8340\n",
      "Epoch 79/100\n",
      "8000/8000 [==============================] - 2s 197us/step - loss: 0.3998 - acc: 0.8344\n",
      "Epoch 80/100\n",
      "8000/8000 [==============================] - 2s 196us/step - loss: 0.4003 - acc: 0.8349\n",
      "Epoch 81/100\n"
     ]
    },
    {
     "name": "stdout",
     "output_type": "stream",
     "text": [
      "8000/8000 [==============================] - 2s 221us/step - loss: 0.4001 - acc: 0.8347\n",
      "Epoch 82/100\n",
      "8000/8000 [==============================] - 2s 194us/step - loss: 0.4001 - acc: 0.8342\n",
      "Epoch 83/100\n",
      "8000/8000 [==============================] - 1s 183us/step - loss: 0.4001 - acc: 0.8369\n",
      "Epoch 84/100\n",
      "8000/8000 [==============================] - 2s 208us/step - loss: 0.4002 - acc: 0.8341\n",
      "Epoch 85/100\n",
      "8000/8000 [==============================] - 1s 183us/step - loss: 0.3998 - acc: 0.8344\n",
      "Epoch 86/100\n",
      "8000/8000 [==============================] - 1s 183us/step - loss: 0.4003 - acc: 0.8344\n",
      "Epoch 87/100\n",
      "8000/8000 [==============================] - 2s 223us/step - loss: 0.3996 - acc: 0.8370\n",
      "Epoch 88/100\n",
      "8000/8000 [==============================] - 2s 254us/step - loss: 0.4003 - acc: 0.8356\n",
      "Epoch 89/100\n",
      "8000/8000 [==============================] - 2s 213us/step - loss: 0.3996 - acc: 0.8340\n",
      "Epoch 90/100\n",
      "8000/8000 [==============================] - 2s 212us/step - loss: 0.3999 - acc: 0.8352\n",
      "Epoch 91/100\n",
      "8000/8000 [==============================] - 2s 211us/step - loss: 0.3996 - acc: 0.8339\n",
      "Epoch 92/100\n",
      "8000/8000 [==============================] - 1s 186us/step - loss: 0.3999 - acc: 0.8357\n",
      "Epoch 93/100\n",
      "8000/8000 [==============================] - 2s 197us/step - loss: 0.4000 - acc: 0.8341\n",
      "Epoch 94/100\n",
      "8000/8000 [==============================] - 2s 197us/step - loss: 0.4001 - acc: 0.8349\n",
      "Epoch 95/100\n",
      "8000/8000 [==============================] - 2s 196us/step - loss: 0.3999 - acc: 0.8336\n",
      "Epoch 96/100\n",
      "8000/8000 [==============================] - 2s 201us/step - loss: 0.4000 - acc: 0.8359\n",
      "Epoch 97/100\n",
      "8000/8000 [==============================] - 2s 197us/step - loss: 0.3998 - acc: 0.8347\n",
      "Epoch 98/100\n",
      "8000/8000 [==============================] - 2s 207us/step - loss: 0.4002 - acc: 0.8359\n",
      "Epoch 99/100\n",
      "8000/8000 [==============================] - 2s 188us/step - loss: 0.3993 - acc: 0.8345\n",
      "Epoch 100/100\n",
      "8000/8000 [==============================] - 2s 199us/step - loss: 0.3999 - acc: 0.8361\n"
     ]
    },
    {
     "data": {
      "text/plain": [
       "<keras.callbacks.History at 0x119ef2b00>"
      ]
     },
     "execution_count": 74,
     "metadata": {},
     "output_type": "execute_result"
    }
   ],
   "source": [
    "# Fitting the ANN to the Training set\n",
    "classifier.fit(X_train, y_train, batch_size = 10, epochs = 100)"
   ]
  },
  {
   "cell_type": "code",
   "execution_count": null,
   "metadata": {},
   "outputs": [],
   "source": []
  }
 ],
 "metadata": {
  "kernelspec": {
   "display_name": "Python 3",
   "language": "python",
   "name": "python3"
  },
  "language_info": {
   "codemirror_mode": {
    "name": "ipython",
    "version": 3
   },
   "file_extension": ".py",
   "mimetype": "text/x-python",
   "name": "python",
   "nbconvert_exporter": "python",
   "pygments_lexer": "ipython3",
   "version": "3.6.1"
  }
 },
 "nbformat": 4,
 "nbformat_minor": 2
}
